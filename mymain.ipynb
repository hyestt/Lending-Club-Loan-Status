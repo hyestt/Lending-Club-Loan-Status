{
 "cells": [
  {
   "cell_type": "code",
   "execution_count": 38,
   "metadata": {},
   "outputs": [
    {
     "name": "stdout",
     "output_type": "stream",
     "text": [
      "Shape of dataframe:  (844006, 30)\n"
     ]
    },
    {
     "data": {
      "text/html": [
       "<div>\n",
       "<style scoped>\n",
       "    .dataframe tbody tr th:only-of-type {\n",
       "        vertical-align: middle;\n",
       "    }\n",
       "\n",
       "    .dataframe tbody tr th {\n",
       "        vertical-align: top;\n",
       "    }\n",
       "\n",
       "    .dataframe thead th {\n",
       "        text-align: right;\n",
       "    }\n",
       "</style>\n",
       "<table border=\"1\" class=\"dataframe\">\n",
       "  <thead>\n",
       "    <tr style=\"text-align: right;\">\n",
       "      <th></th>\n",
       "      <th>id</th>\n",
       "      <th>loan_amnt</th>\n",
       "      <th>term</th>\n",
       "      <th>int_rate</th>\n",
       "      <th>installment</th>\n",
       "      <th>grade</th>\n",
       "      <th>sub_grade</th>\n",
       "      <th>emp_title</th>\n",
       "      <th>emp_length</th>\n",
       "      <th>home_ownership</th>\n",
       "      <th>...</th>\n",
       "      <th>fico_range_high</th>\n",
       "      <th>open_acc</th>\n",
       "      <th>pub_rec</th>\n",
       "      <th>revol_bal</th>\n",
       "      <th>revol_util</th>\n",
       "      <th>total_acc</th>\n",
       "      <th>initial_list_status</th>\n",
       "      <th>application_type</th>\n",
       "      <th>mort_acc</th>\n",
       "      <th>pub_rec_bankruptcies</th>\n",
       "    </tr>\n",
       "  </thead>\n",
       "  <tbody>\n",
       "    <tr>\n",
       "      <th>415366</th>\n",
       "      <td>43609340</td>\n",
       "      <td>33825</td>\n",
       "      <td>60 months</td>\n",
       "      <td>20.49</td>\n",
       "      <td>905.41</td>\n",
       "      <td>E</td>\n",
       "      <td>E4</td>\n",
       "      <td>Director of qa</td>\n",
       "      <td>2 years</td>\n",
       "      <td>RENT</td>\n",
       "      <td>...</td>\n",
       "      <td>669</td>\n",
       "      <td>8</td>\n",
       "      <td>0</td>\n",
       "      <td>14159.0</td>\n",
       "      <td>99.0</td>\n",
       "      <td>16</td>\n",
       "      <td>w</td>\n",
       "      <td>Individual</td>\n",
       "      <td>0.0</td>\n",
       "      <td>0.0</td>\n",
       "    </tr>\n",
       "    <tr>\n",
       "      <th>481127</th>\n",
       "      <td>9837806</td>\n",
       "      <td>9000</td>\n",
       "      <td>36 months</td>\n",
       "      <td>10.99</td>\n",
       "      <td>294.61</td>\n",
       "      <td>B</td>\n",
       "      <td>B2</td>\n",
       "      <td>Teacher</td>\n",
       "      <td>10+ years</td>\n",
       "      <td>MORTGAGE</td>\n",
       "      <td>...</td>\n",
       "      <td>704</td>\n",
       "      <td>17</td>\n",
       "      <td>0</td>\n",
       "      <td>10263.0</td>\n",
       "      <td>65.0</td>\n",
       "      <td>30</td>\n",
       "      <td>f</td>\n",
       "      <td>Individual</td>\n",
       "      <td>0.0</td>\n",
       "      <td>0.0</td>\n",
       "    </tr>\n",
       "    <tr>\n",
       "      <th>111501</th>\n",
       "      <td>20037141</td>\n",
       "      <td>18400</td>\n",
       "      <td>60 months</td>\n",
       "      <td>24.08</td>\n",
       "      <td>530.19</td>\n",
       "      <td>F</td>\n",
       "      <td>F2</td>\n",
       "      <td>Payroll Co-ordinator/Accountant</td>\n",
       "      <td>1 year</td>\n",
       "      <td>MORTGAGE</td>\n",
       "      <td>...</td>\n",
       "      <td>694</td>\n",
       "      <td>11</td>\n",
       "      <td>1</td>\n",
       "      <td>16740.0</td>\n",
       "      <td>77.1</td>\n",
       "      <td>19</td>\n",
       "      <td>w</td>\n",
       "      <td>Individual</td>\n",
       "      <td>1.0</td>\n",
       "      <td>0.0</td>\n",
       "    </tr>\n",
       "    <tr>\n",
       "      <th>492699</th>\n",
       "      <td>8275638</td>\n",
       "      <td>14000</td>\n",
       "      <td>60 months</td>\n",
       "      <td>15.61</td>\n",
       "      <td>337.56</td>\n",
       "      <td>C</td>\n",
       "      <td>C3</td>\n",
       "      <td>Senior investment accountant</td>\n",
       "      <td>&lt; 1 year</td>\n",
       "      <td>RENT</td>\n",
       "      <td>...</td>\n",
       "      <td>699</td>\n",
       "      <td>8</td>\n",
       "      <td>0</td>\n",
       "      <td>21076.0</td>\n",
       "      <td>88.9</td>\n",
       "      <td>24</td>\n",
       "      <td>f</td>\n",
       "      <td>Individual</td>\n",
       "      <td>0.0</td>\n",
       "      <td>0.0</td>\n",
       "    </tr>\n",
       "    <tr>\n",
       "      <th>449964</th>\n",
       "      <td>39521484</td>\n",
       "      <td>7500</td>\n",
       "      <td>36 months</td>\n",
       "      <td>6.03</td>\n",
       "      <td>228.27</td>\n",
       "      <td>A</td>\n",
       "      <td>A1</td>\n",
       "      <td>Assistant Director of Purchasing</td>\n",
       "      <td>9 years</td>\n",
       "      <td>MORTGAGE</td>\n",
       "      <td>...</td>\n",
       "      <td>829</td>\n",
       "      <td>21</td>\n",
       "      <td>0</td>\n",
       "      <td>997.0</td>\n",
       "      <td>1.9</td>\n",
       "      <td>32</td>\n",
       "      <td>f</td>\n",
       "      <td>Individual</td>\n",
       "      <td>1.0</td>\n",
       "      <td>0.0</td>\n",
       "    </tr>\n",
       "  </tbody>\n",
       "</table>\n",
       "<p>5 rows × 30 columns</p>\n",
       "</div>"
      ],
      "text/plain": [
       "              id  loan_amnt       term  int_rate  installment grade sub_grade  \\\n",
       "415366  43609340      33825  60 months     20.49       905.41     E        E4   \n",
       "481127   9837806       9000  36 months     10.99       294.61     B        B2   \n",
       "111501  20037141      18400  60 months     24.08       530.19     F        F2   \n",
       "492699   8275638      14000  60 months     15.61       337.56     C        C3   \n",
       "449964  39521484       7500  36 months      6.03       228.27     A        A1   \n",
       "\n",
       "                               emp_title emp_length home_ownership  \\\n",
       "415366                    Director of qa    2 years           RENT   \n",
       "481127                           Teacher  10+ years       MORTGAGE   \n",
       "111501   Payroll Co-ordinator/Accountant     1 year       MORTGAGE   \n",
       "492699      Senior investment accountant   < 1 year           RENT   \n",
       "449964  Assistant Director of Purchasing    9 years       MORTGAGE   \n",
       "\n",
       "                ...           fico_range_high open_acc pub_rec revol_bal  \\\n",
       "415366          ...                       669        8       0   14159.0   \n",
       "481127          ...                       704       17       0   10263.0   \n",
       "111501          ...                       694       11       1   16740.0   \n",
       "492699          ...                       699        8       0   21076.0   \n",
       "449964          ...                       829       21       0     997.0   \n",
       "\n",
       "       revol_util total_acc initial_list_status  application_type mort_acc  \\\n",
       "415366       99.0        16                   w        Individual      0.0   \n",
       "481127       65.0        30                   f        Individual      0.0   \n",
       "111501       77.1        19                   w        Individual      1.0   \n",
       "492699       88.9        24                   f        Individual      0.0   \n",
       "449964        1.9        32                   f        Individual      1.0   \n",
       "\n",
       "        pub_rec_bankruptcies  \n",
       "415366                   0.0  \n",
       "481127                   0.0  \n",
       "111501                   0.0  \n",
       "492699                   0.0  \n",
       "449964                   0.0  \n",
       "\n",
       "[5 rows x 30 columns]"
      ]
     },
     "execution_count": 38,
     "metadata": {},
     "output_type": "execute_result"
    }
   ],
   "source": [
    "import numpy as np\n",
    "import scipy as sp\n",
    "import pandas as pd\n",
    "import matplotlib as mpl\n",
    "import matplotlib.pyplot as plt\n",
    "import seaborn as sns\n",
    "\n",
    "# Plotting options\n",
    "%matplotlib inline\n",
    "\n",
    "csv_path = 'loan_stat542.csv'\n",
    "loans = pd.read_csv(csv_path)\n",
    "print(\"Shape of dataframe: \",loans.shape)\n",
    "loans.sample(5)"
   ]
  },
  {
   "cell_type": "code",
   "execution_count": 2,
   "metadata": {},
   "outputs": [
    {
     "data": {
      "text/plain": [
       "['id',\n",
       " 'loan_amnt',\n",
       " 'term',\n",
       " 'int_rate',\n",
       " 'installment',\n",
       " 'grade',\n",
       " 'sub_grade',\n",
       " 'emp_title',\n",
       " 'emp_length',\n",
       " 'home_ownership',\n",
       " 'annual_inc',\n",
       " 'verification_status',\n",
       " 'loan_status',\n",
       " 'purpose',\n",
       " 'title',\n",
       " 'zip_code',\n",
       " 'addr_state',\n",
       " 'dti',\n",
       " 'earliest_cr_line',\n",
       " 'fico_range_low',\n",
       " 'fico_range_high',\n",
       " 'open_acc',\n",
       " 'pub_rec',\n",
       " 'revol_bal',\n",
       " 'revol_util',\n",
       " 'total_acc',\n",
       " 'initial_list_status',\n",
       " 'application_type',\n",
       " 'mort_acc',\n",
       " 'pub_rec_bankruptcies']"
      ]
     },
     "execution_count": 2,
     "metadata": {},
     "output_type": "execute_result"
    }
   ],
   "source": [
    "loans.columns.tolist()"
   ]
  },
  {
   "cell_type": "markdown",
   "metadata": {},
   "source": [
    "Check the distribution of loan_status. If the status is fully paid, then the label is 0. If the status is default or charged off, then the labels are 1. "
   ]
  },
  {
   "cell_type": "code",
   "execution_count": 3,
   "metadata": {},
   "outputs": [
    {
     "data": {
      "text/plain": [
       "Fully Paid     673112\n",
       "Charged Off    170822\n",
       "Default            72\n",
       "Name: loan_status, dtype: int64"
      ]
     },
     "execution_count": 3,
     "metadata": {},
     "output_type": "execute_result"
    }
   ],
   "source": [
    "loans['loan_status'].value_counts(dropna = False)"
   ]
  },
  {
   "cell_type": "markdown",
   "metadata": {},
   "source": [
    "### Exploratory data analysis conclusion:\n",
    "\n",
    "1. ['term'] About 76% of the completed loans have three-year periods, and the rest have five-year periods. Loans with five-year periods are more than twice as likely to charge-off as loans with three-year periods.\n",
    "2. ['loan_amnt'] Charged-off loans tend to have higher loan amounts. \n",
    "3. ['int_rate'] Charged-off loans tend to have much higher interest rates.\n",
    "4. ['annual_inc'] individuals with higher income are more likely to pay off their loans.\n",
    "5. ['pub_rec_bankruptcies'] Individuals who pay off their loans are more likely to have several mortgage accounts.\n",
    "\n",
    "\n",
    "Reference: https://www.kaggle.com/pileatedperch/predicting-charge-off-from-initial-listing-data"
   ]
  },
  {
   "cell_type": "code",
   "execution_count": 4,
   "metadata": {},
   "outputs": [
    {
     "data": {
      "text/plain": [
       "count      793160\n",
       "unique     274609\n",
       "top       Teacher\n",
       "freq        12275\n",
       "Name: emp_title, dtype: object"
      ]
     },
     "execution_count": 4,
     "metadata": {},
     "output_type": "execute_result"
    }
   ],
   "source": [
    "# There are too many different job titles for this feature to be useful, so we drop it.\n",
    "loans['emp_title'].describe()\n"
   ]
  },
  {
   "cell_type": "code",
   "execution_count": 5,
   "metadata": {},
   "outputs": [],
   "source": [
    "# The grade is implied by the subgrade, so let's drop the grade column.\n",
    "# the purpose variable appears to already contain this information. So we drop the title variable.\n",
    "loans.drop('grade',axis = 1, inplace = True)\n",
    "loans.drop('emp_title',axis = 1, inplace = True)\n",
    "loans.drop('title', axis=1, inplace=True)\n",
    "loans.drop(labels='zip_code', axis=1, inplace=True)\n",
    "loans.drop('earliest_cr_line', axis=1, inplace=True)"
   ]
  },
  {
   "cell_type": "code",
   "execution_count": 6,
   "metadata": {},
   "outputs": [
    {
     "data": {
      "text/plain": [
       "1 year        55277\n",
       "10+ years    274730\n",
       "2 years       76034\n",
       "3 years       67265\n",
       "4 years       50523\n",
       "5 years       53949\n",
       "6 years       41500\n",
       "7 years       40519\n",
       "8 years       39715\n",
       "9 years       32767\n",
       "< 1 year      67238\n",
       "NaN           44489\n",
       "Name: emp_length, dtype: int64"
      ]
     },
     "execution_count": 6,
     "metadata": {},
     "output_type": "execute_result"
    }
   ],
   "source": [
    "# Data Dictionary: \"Employment length in years. Possible values are between 0 and 10 where 0 means less than one year and 10 means ten or more years.\" \n",
    "# The actual data does not match this description:\n",
    "loans['emp_length'].value_counts(dropna=False).sort_index()"
   ]
  },
  {
   "cell_type": "code",
   "execution_count": 7,
   "metadata": {},
   "outputs": [
    {
     "data": {
      "text/plain": [
       " 0.0      67238\n",
       " 1.0      55277\n",
       " 2.0      76034\n",
       " 3.0      67265\n",
       " 4.0      50523\n",
       " 5.0      53949\n",
       " 6.0      41500\n",
       " 7.0      40519\n",
       " 8.0      39715\n",
       " 9.0      32767\n",
       " 10.0    274730\n",
       "NaN       44489\n",
       "Name: emp_length, dtype: int64"
      ]
     },
     "execution_count": 7,
     "metadata": {},
     "output_type": "execute_result"
    }
   ],
   "source": [
    "# Convert emp_length to integers\n",
    "loans['emp_length'].replace(to_replace='10+ years', value='10 years', inplace=True)\n",
    "loans['emp_length'].replace('< 1 year', '0 years', inplace=True)\n",
    "def emp_length_to_int(s):\n",
    "    if pd.isnull(s):\n",
    "        return s\n",
    "    else:\n",
    "        return np.int8(s.split()[0])\n",
    "loans['emp_length'] = loans['emp_length'].apply(emp_length_to_int)\n",
    "loans['emp_length'].value_counts(dropna=False).sort_index()"
   ]
  },
  {
   "cell_type": "code",
   "execution_count": 8,
   "metadata": {},
   "outputs": [
    {
     "data": {
      "text/plain": [
       "MORTGAGE    421628\n",
       "RENT        335225\n",
       "OWN          86868\n",
       "OTHER          285\n",
       "Name: home_ownership, dtype: int64"
      ]
     },
     "execution_count": 8,
     "metadata": {},
     "output_type": "execute_result"
    }
   ],
   "source": [
    "# Replace the values ANY and NONE with OTHER:\n",
    "# \"The home ownership status provided by the borrower during registration or obtained from the credit report. Our values are: RENT, OWN, MORTGAGE, OTHER.\"\n",
    "loans['home_ownership'].replace(['NONE', 'ANY'], 'OTHER', inplace=True)\n",
    "loans['home_ownership'].value_counts(dropna=False)\n"
   ]
  },
  {
   "cell_type": "code",
   "execution_count": 9,
   "metadata": {},
   "outputs": [
    {
     "data": {
      "text/plain": [
       "debt_consolidation    496197\n",
       "credit_card           180491\n",
       "home_improvement       53202\n",
       "other                  47072\n",
       "major_purchase         18440\n",
       "small_business         10531\n",
       "car                     9393\n",
       "medical                 9388\n",
       "moving                  6005\n",
       "vacation                5401\n",
       "house                   4666\n",
       "wedding                 2273\n",
       "renewable_energy         621\n",
       "educational              326\n",
       "Name: purpose, dtype: int64"
      ]
     },
     "execution_count": 9,
     "metadata": {},
     "output_type": "execute_result"
    }
   ],
   "source": [
    "# Data Dictionary: \"A category provided by the borrower for the loan request.\"\n",
    "loans['purpose'].value_counts()"
   ]
  },
  {
   "cell_type": "code",
   "execution_count": 10,
   "metadata": {},
   "outputs": [
    {
     "data": {
      "text/plain": [
       "purpose\n",
       "wedding               0.122305\n",
       "car                   0.143831\n",
       "educational           0.171779\n",
       "credit_card           0.175333\n",
       "home_improvement      0.177418\n",
       "major_purchase        0.179989\n",
       "vacation              0.192742\n",
       "house                 0.197814\n",
       "other                 0.209169\n",
       "debt_consolidation    0.213790\n",
       "medical               0.223370\n",
       "moving                0.238468\n",
       "renewable_energy      0.244767\n",
       "small_business        0.300066\n",
       "Name: loan_status, dtype: float64"
      ]
     },
     "execution_count": 10,
     "metadata": {},
     "output_type": "execute_result"
    }
   ],
   "source": [
    "# Notice that only 12% of completed loans for weddings have charged-off, but 30% of completed small business loans have charged-off.\n",
    "loans.groupby('purpose')['loan_status'].value_counts(normalize=True).loc[:,'Charged Off'].sort_values()"
   ]
  },
  {
   "cell_type": "code",
   "execution_count": 11,
   "metadata": {},
   "outputs": [
    {
     "data": {
      "text/plain": [
       "addr_state\n",
       "ME    0.125802\n",
       "DC    0.128620\n",
       "NH    0.139974\n",
       "IA    0.142857\n",
       "VT    0.143921\n",
       "OR    0.150079\n",
       "CO    0.154034\n",
       "WA    0.162823\n",
       "KS    0.168399\n",
       "SC    0.168683\n",
       "ID    0.172026\n",
       "WI    0.172773\n",
       "MT    0.173069\n",
       "UT    0.174210\n",
       "WY    0.175159\n",
       "WV    0.179495\n",
       "CT    0.180472\n",
       "GA    0.187830\n",
       "RI    0.189674\n",
       "MA    0.190069\n",
       "IL    0.190110\n",
       "AZ    0.193777\n",
       "CA    0.195138\n",
       "TX    0.198375\n",
       "HI    0.199008\n",
       "DE    0.201630\n",
       "AK    0.202063\n",
       "VA    0.204023\n",
       "MI    0.204923\n",
       "MN    0.206965\n",
       "NC    0.210555\n",
       "MD    0.210806\n",
       "PA    0.211016\n",
       "KY    0.212292\n",
       "NJ    0.212681\n",
       "MO    0.215253\n",
       "FL    0.217878\n",
       "SD    0.220690\n",
       "NM    0.221453\n",
       "OH    0.221521\n",
       "ND    0.222561\n",
       "NY    0.223351\n",
       "IN    0.223449\n",
       "TN    0.224601\n",
       "NV    0.229201\n",
       "LA    0.235091\n",
       "AR    0.239218\n",
       "AL    0.243614\n",
       "OK    0.244235\n",
       "NE    0.252123\n",
       "MS    0.268757\n",
       "Name: loan_status, dtype: float64"
      ]
     },
     "execution_count": 11,
     "metadata": {},
     "output_type": "execute_result"
    }
   ],
   "source": [
    "# Calculate the charge-off rates by address state:\n",
    "# The charge-off rate ranges from 13.0% in Washington, DC to 27.6% in Mississippi.\n",
    "\n",
    "loans.groupby('addr_state')['loan_status'].value_counts(normalize=True).loc[:,'Charged Off'].sort_values()"
   ]
  },
  {
   "cell_type": "code",
   "execution_count": 12,
   "metadata": {},
   "outputs": [
    {
     "data": {
      "text/plain": [
       "count    843910.000000\n",
       "mean         17.883412\n",
       "std           9.481892\n",
       "min          -1.000000\n",
       "25%          11.590000\n",
       "50%          17.330000\n",
       "75%          23.630000\n",
       "max         999.000000\n",
       "Name: dti, dtype: float64"
      ]
     },
     "execution_count": 12,
     "metadata": {},
     "output_type": "execute_result"
    }
   ],
   "source": [
    "#Data Dictionary: \"A ratio calculated using the borrower’s total monthly debt payments on the total debt obligations, \n",
    "# excluding mortgage and the requested LC loan, divided by the borrower’s self-reported monthly income.\"\n",
    "loans['dti'].describe()\n"
   ]
  },
  {
   "cell_type": "code",
   "execution_count": 13,
   "metadata": {},
   "outputs": [
    {
     "data": {
      "text/plain": [
       "<matplotlib.text.Text at 0x1a1da453c8>"
      ]
     },
     "execution_count": 13,
     "metadata": {},
     "output_type": "execute_result"
    },
    {
     "data": {
      "image/png": "[encoded data removed]",
      "text/plain": [
       "<matplotlib.figure.Figure at 0x1a2466ccc0>"
      ]
     },
     "metadata": {},
     "output_type": "display_data"
    }
   ],
   "source": [
    "plt.figure(figsize=(8,3), dpi=90)\n",
    "sns.distplot(loans.loc[loans['dti'].notnull() & (loans['dti']<60), 'dti'], kde=False)\n",
    "plt.xlabel('Debt-to-income Ratio')\n",
    "plt.ylabel('Count')\n",
    "plt.title('Debt-to-income Ratio')"
   ]
  },
  {
   "cell_type": "code",
   "execution_count": 14,
   "metadata": {},
   "outputs": [
    {
     "data": {
      "text/html": [
       "<div>\n",
       "<style scoped>\n",
       "    .dataframe tbody tr th:only-of-type {\n",
       "        vertical-align: middle;\n",
       "    }\n",
       "\n",
       "    .dataframe tbody tr th {\n",
       "        vertical-align: top;\n",
       "    }\n",
       "\n",
       "    .dataframe thead th {\n",
       "        text-align: right;\n",
       "    }\n",
       "</style>\n",
       "<table border=\"1\" class=\"dataframe\">\n",
       "  <thead>\n",
       "    <tr style=\"text-align: right;\">\n",
       "      <th></th>\n",
       "      <th>count</th>\n",
       "      <th>mean</th>\n",
       "      <th>std</th>\n",
       "      <th>min</th>\n",
       "      <th>25%</th>\n",
       "      <th>50%</th>\n",
       "      <th>75%</th>\n",
       "      <th>max</th>\n",
       "    </tr>\n",
       "    <tr>\n",
       "      <th>loan_status</th>\n",
       "      <th></th>\n",
       "      <th></th>\n",
       "      <th></th>\n",
       "      <th></th>\n",
       "      <th></th>\n",
       "      <th></th>\n",
       "      <th></th>\n",
       "      <th></th>\n",
       "    </tr>\n",
       "  </thead>\n",
       "  <tbody>\n",
       "    <tr>\n",
       "      <th>Charged Off</th>\n",
       "      <td>170813.0</td>\n",
       "      <td>20.003621</td>\n",
       "      <td>9.254917</td>\n",
       "      <td>0.00</td>\n",
       "      <td>13.6000</td>\n",
       "      <td>19.75</td>\n",
       "      <td>26.21</td>\n",
       "      <td>999.00</td>\n",
       "    </tr>\n",
       "    <tr>\n",
       "      <th>Default</th>\n",
       "      <td>72.0</td>\n",
       "      <td>20.229722</td>\n",
       "      <td>8.523281</td>\n",
       "      <td>1.23</td>\n",
       "      <td>14.2875</td>\n",
       "      <td>19.98</td>\n",
       "      <td>27.80</td>\n",
       "      <td>44.48</td>\n",
       "    </tr>\n",
       "    <tr>\n",
       "      <th>Fully Paid</th>\n",
       "      <td>673025.0</td>\n",
       "      <td>17.345055</td>\n",
       "      <td>9.463425</td>\n",
       "      <td>-1.00</td>\n",
       "      <td>11.1800</td>\n",
       "      <td>16.76</td>\n",
       "      <td>22.92</td>\n",
       "      <td>999.00</td>\n",
       "    </tr>\n",
       "  </tbody>\n",
       "</table>\n",
       "</div>"
      ],
      "text/plain": [
       "                count       mean       std   min      25%    50%    75%  \\\n",
       "loan_status                                                               \n",
       "Charged Off  170813.0  20.003621  9.254917  0.00  13.6000  19.75  26.21   \n",
       "Default          72.0  20.229722  8.523281  1.23  14.2875  19.98  27.80   \n",
       "Fully Paid   673025.0  17.345055  9.463425 -1.00  11.1800  16.76  22.92   \n",
       "\n",
       "                max  \n",
       "loan_status          \n",
       "Charged Off  999.00  \n",
       "Default       44.48  \n",
       "Fully Paid   999.00  "
      ]
     },
     "execution_count": 14,
     "metadata": {},
     "output_type": "execute_result"
    }
   ],
   "source": [
    "# Completed loans that are charged off tend to have higher debt-to-income ratios.\n",
    "\n",
    "loans.groupby('loan_status')['dti'].describe()"
   ]
  },
  {
   "cell_type": "code",
   "execution_count": 15,
   "metadata": {},
   "outputs": [
    {
     "data": {
      "text/html": [
       "<div>\n",
       "<style scoped>\n",
       "    .dataframe tbody tr th:only-of-type {\n",
       "        vertical-align: middle;\n",
       "    }\n",
       "\n",
       "    .dataframe tbody tr th {\n",
       "        vertical-align: top;\n",
       "    }\n",
       "\n",
       "    .dataframe thead th {\n",
       "        text-align: right;\n",
       "    }\n",
       "</style>\n",
       "<table border=\"1\" class=\"dataframe\">\n",
       "  <thead>\n",
       "    <tr style=\"text-align: right;\">\n",
       "      <th></th>\n",
       "      <th>fico_range_low</th>\n",
       "      <th>fico_range_high</th>\n",
       "    </tr>\n",
       "  </thead>\n",
       "  <tbody>\n",
       "    <tr>\n",
       "      <th>fico_range_low</th>\n",
       "      <td>1.0</td>\n",
       "      <td>1.0</td>\n",
       "    </tr>\n",
       "    <tr>\n",
       "      <th>fico_range_high</th>\n",
       "      <td>1.0</td>\n",
       "      <td>1.0</td>\n",
       "    </tr>\n",
       "  </tbody>\n",
       "</table>\n",
       "</div>"
      ],
      "text/plain": [
       "                 fico_range_low  fico_range_high\n",
       "fico_range_low              1.0              1.0\n",
       "fico_range_high             1.0              1.0"
      ]
     },
     "execution_count": 15,
     "metadata": {},
     "output_type": "execute_result"
    }
   ],
   "source": [
    "# Check the Pearson correlation between these values:\n",
    "loans[['fico_range_low','fico_range_high']].corr()\n"
   ]
  },
  {
   "cell_type": "code",
   "execution_count": 16,
   "metadata": {},
   "outputs": [
    {
     "data": {
      "text/html": [
       "<div>\n",
       "<style scoped>\n",
       "    .dataframe tbody tr th:only-of-type {\n",
       "        vertical-align: middle;\n",
       "    }\n",
       "\n",
       "    .dataframe tbody tr th {\n",
       "        vertical-align: top;\n",
       "    }\n",
       "\n",
       "    .dataframe thead th {\n",
       "        text-align: right;\n",
       "    }\n",
       "</style>\n",
       "<table border=\"1\" class=\"dataframe\">\n",
       "  <thead>\n",
       "    <tr style=\"text-align: right;\">\n",
       "      <th></th>\n",
       "      <th>count</th>\n",
       "      <th>mean</th>\n",
       "      <th>std</th>\n",
       "      <th>min</th>\n",
       "      <th>25%</th>\n",
       "      <th>50%</th>\n",
       "      <th>75%</th>\n",
       "      <th>max</th>\n",
       "    </tr>\n",
       "    <tr>\n",
       "      <th>loan_status</th>\n",
       "      <th></th>\n",
       "      <th></th>\n",
       "      <th></th>\n",
       "      <th></th>\n",
       "      <th></th>\n",
       "      <th></th>\n",
       "      <th></th>\n",
       "      <th></th>\n",
       "    </tr>\n",
       "  </thead>\n",
       "  <tbody>\n",
       "    <tr>\n",
       "      <th>Charged Off</th>\n",
       "      <td>170822.0</td>\n",
       "      <td>689.272857</td>\n",
       "      <td>25.377774</td>\n",
       "      <td>662.0</td>\n",
       "      <td>672.0</td>\n",
       "      <td>682.0</td>\n",
       "      <td>702.00</td>\n",
       "      <td>847.5</td>\n",
       "    </tr>\n",
       "    <tr>\n",
       "      <th>Default</th>\n",
       "      <td>72.0</td>\n",
       "      <td>685.472222</td>\n",
       "      <td>27.599231</td>\n",
       "      <td>662.0</td>\n",
       "      <td>667.0</td>\n",
       "      <td>677.0</td>\n",
       "      <td>693.25</td>\n",
       "      <td>812.0</td>\n",
       "    </tr>\n",
       "    <tr>\n",
       "      <th>Fully Paid</th>\n",
       "      <td>673112.0</td>\n",
       "      <td>700.282630</td>\n",
       "      <td>32.745813</td>\n",
       "      <td>627.0</td>\n",
       "      <td>677.0</td>\n",
       "      <td>692.0</td>\n",
       "      <td>717.00</td>\n",
       "      <td>847.5</td>\n",
       "    </tr>\n",
       "  </tbody>\n",
       "</table>\n",
       "</div>"
      ],
      "text/plain": [
       "                count        mean        std    min    25%    50%     75%  \\\n",
       "loan_status                                                                 \n",
       "Charged Off  170822.0  689.272857  25.377774  662.0  672.0  682.0  702.00   \n",
       "Default          72.0  685.472222  27.599231  662.0  667.0  677.0  693.25   \n",
       "Fully Paid   673112.0  700.282630  32.745813  627.0  677.0  692.0  717.00   \n",
       "\n",
       "               max  \n",
       "loan_status         \n",
       "Charged Off  847.5  \n",
       "Default      812.0  \n",
       "Fully Paid   847.5  "
      ]
     },
     "execution_count": 16,
     "metadata": {},
     "output_type": "execute_result"
    }
   ],
   "source": [
    "# We only need to keep one of the FICO scores. We'll take the average of the two and call it fico_score:\n",
    "loans['fico_score'] = 0.5*loans['fico_range_low'] + 0.5*loans['fico_range_high']\n",
    "loans.drop(['fico_range_high', 'fico_range_low'], axis=1, inplace=True)\n",
    "loans.groupby('loan_status')['fico_score'].describe()\n"
   ]
  },
  {
   "cell_type": "code",
   "execution_count": 17,
   "metadata": {},
   "outputs": [
    {
     "data": {
      "text/plain": [
       "count    8.440060e+05\n",
       "mean     1.601801e+04\n",
       "std      2.167520e+04\n",
       "min      0.000000e+00\n",
       "25%      5.945250e+03\n",
       "50%      1.111600e+04\n",
       "75%      1.965175e+04\n",
       "max      2.568995e+06\n",
       "Name: revol_bal, dtype: float64"
      ]
     },
     "execution_count": 17,
     "metadata": {},
     "output_type": "execute_result"
    }
   ],
   "source": [
    "# Data Dictionary: \"Total credit revolving balance.\"\n",
    "loans['revol_bal'].describe()"
   ]
  },
  {
   "cell_type": "code",
   "execution_count": 18,
   "metadata": {},
   "outputs": [
    {
     "data": {
      "text/html": [
       "<div>\n",
       "<style scoped>\n",
       "    .dataframe tbody tr th:only-of-type {\n",
       "        vertical-align: middle;\n",
       "    }\n",
       "\n",
       "    .dataframe tbody tr th {\n",
       "        vertical-align: top;\n",
       "    }\n",
       "\n",
       "    .dataframe thead th {\n",
       "        text-align: right;\n",
       "    }\n",
       "</style>\n",
       "<table border=\"1\" class=\"dataframe\">\n",
       "  <thead>\n",
       "    <tr style=\"text-align: right;\">\n",
       "      <th></th>\n",
       "      <th>count</th>\n",
       "      <th>mean</th>\n",
       "      <th>std</th>\n",
       "      <th>min</th>\n",
       "      <th>25%</th>\n",
       "      <th>50%</th>\n",
       "      <th>75%</th>\n",
       "      <th>max</th>\n",
       "    </tr>\n",
       "    <tr>\n",
       "      <th>loan_status</th>\n",
       "      <th></th>\n",
       "      <th></th>\n",
       "      <th></th>\n",
       "      <th></th>\n",
       "      <th></th>\n",
       "      <th></th>\n",
       "      <th></th>\n",
       "      <th></th>\n",
       "    </tr>\n",
       "  </thead>\n",
       "  <tbody>\n",
       "    <tr>\n",
       "      <th>Charged Off</th>\n",
       "      <td>170822.0</td>\n",
       "      <td>3.994594</td>\n",
       "      <td>0.504839</td>\n",
       "      <td>0.000000</td>\n",
       "      <td>3.785276</td>\n",
       "      <td>4.050244</td>\n",
       "      <td>4.287930</td>\n",
       "      <td>6.242223</td>\n",
       "    </tr>\n",
       "    <tr>\n",
       "      <th>Default</th>\n",
       "      <td>72.0</td>\n",
       "      <td>4.001024</td>\n",
       "      <td>0.456091</td>\n",
       "      <td>2.064458</td>\n",
       "      <td>3.763519</td>\n",
       "      <td>4.022778</td>\n",
       "      <td>4.303563</td>\n",
       "      <td>5.068957</td>\n",
       "    </tr>\n",
       "    <tr>\n",
       "      <th>Fully Paid</th>\n",
       "      <td>673112.0</td>\n",
       "      <td>3.988579</td>\n",
       "      <td>0.537872</td>\n",
       "      <td>0.000000</td>\n",
       "      <td>3.771587</td>\n",
       "      <td>4.044814</td>\n",
       "      <td>4.294863</td>\n",
       "      <td>6.409763</td>\n",
       "    </tr>\n",
       "  </tbody>\n",
       "</table>\n",
       "</div>"
      ],
      "text/plain": [
       "                count      mean       std       min       25%       50%  \\\n",
       "loan_status                                                               \n",
       "Charged Off  170822.0  3.994594  0.504839  0.000000  3.785276  4.050244   \n",
       "Default          72.0  4.001024  0.456091  2.064458  3.763519  4.022778   \n",
       "Fully Paid   673112.0  3.988579  0.537872  0.000000  3.771587  4.044814   \n",
       "\n",
       "                  75%       max  \n",
       "loan_status                      \n",
       "Charged Off  4.287930  6.242223  \n",
       "Default      4.303563  5.068957  \n",
       "Fully Paid   4.294863  6.409763  "
      ]
     },
     "execution_count": 18,
     "metadata": {},
     "output_type": "execute_result"
    }
   ],
   "source": [
    "# Do the log transform\n",
    "loans['log_revol_bal'] = loans['revol_bal'].apply(lambda x: np.log10(x+1))\n",
    "loans.drop('revol_bal', axis=1, inplace=True)\n",
    "loans.groupby('loan_status')['log_revol_bal'].describe()"
   ]
  },
  {
   "cell_type": "code",
   "execution_count": 19,
   "metadata": {},
   "outputs": [
    {
     "name": "stderr",
     "output_type": "stream",
     "text": [
      "/Users/glen/anaconda/lib/python3.6/site-packages/pandas/core/indexing.py:189: SettingWithCopyWarning: \n",
      "A value is trying to be set on a copy of a slice from a DataFrame\n",
      "\n",
      "See the caveats in the documentation: http://pandas.pydata.org/pandas-docs/stable/indexing.html#indexing-view-versus-copy\n",
      "  self._setitem_with_indexer(indexer, value)\n"
     ]
    }
   ],
   "source": [
    "# Convert loan status to 0/1 charge-off indicator\n",
    "# Change the response variable loan_status to a 0/1 variable, where 0 indicates fully paid and 1 indicates charge-off or Default\n",
    "loans['loan_status'].loc[loans['loan_status'] == 'Fully Paid'] = 1\n",
    "loans['loan_status'].loc[loans['loan_status'] == 'Default'] = 0\n",
    "loans['loan_status'].loc[loans['loan_status'] == 'Charged Off'] = 0"
   ]
  },
  {
   "cell_type": "code",
   "execution_count": 20,
   "metadata": {},
   "outputs": [
    {
     "name": "stdout",
     "output_type": "stream",
     "text": [
      "mort_acc                0.056020\n",
      "emp_length              0.052712\n",
      "pub_rec_bankruptcies    0.000826\n",
      "revol_util              0.000639\n",
      "dti                     0.000114\n",
      "dtype: float64\n"
     ]
    }
   ],
   "source": [
    "# Process missing value\n",
    "# There are no categorical variables with missing values, and therefore we don't need any NaN dummy variables.\n",
    "\n",
    "missing_fractions = loans.isnull().mean().sort_values(ascending=False) # Fraction of data missing for each variable\n",
    "print(missing_fractions[missing_fractions > 0]) # Print variables that are missing data"
   ]
  },
  {
   "cell_type": "code",
   "execution_count": 21,
   "metadata": {},
   "outputs": [
    {
     "name": "stdout",
     "output_type": "stream",
     "text": [
      "Index(['id', 'loan_amnt', 'term', 'int_rate', 'installment', 'sub_grade',\n",
      "       'emp_length', 'home_ownership', 'annual_inc', 'verification_status',\n",
      "       'loan_status', 'purpose', 'addr_state', 'dti', 'open_acc', 'pub_rec',\n",
      "       'revol_util', 'total_acc', 'initial_list_status', 'application_type',\n",
      "       'mort_acc', 'pub_rec_bankruptcies', 'fico_score', 'log_revol_bal'],\n",
      "      dtype='object')\n"
     ]
    },
    {
     "data": {
      "text/html": [
       "<div>\n",
       "<style scoped>\n",
       "    .dataframe tbody tr th:only-of-type {\n",
       "        vertical-align: middle;\n",
       "    }\n",
       "\n",
       "    .dataframe tbody tr th {\n",
       "        vertical-align: top;\n",
       "    }\n",
       "\n",
       "    .dataframe thead th {\n",
       "        text-align: right;\n",
       "    }\n",
       "</style>\n",
       "<table border=\"1\" class=\"dataframe\">\n",
       "  <thead>\n",
       "    <tr style=\"text-align: right;\">\n",
       "      <th></th>\n",
       "      <th>id</th>\n",
       "      <th>loan_amnt</th>\n",
       "      <th>int_rate</th>\n",
       "      <th>installment</th>\n",
       "      <th>emp_length</th>\n",
       "      <th>annual_inc</th>\n",
       "      <th>loan_status</th>\n",
       "      <th>dti</th>\n",
       "      <th>open_acc</th>\n",
       "      <th>pub_rec</th>\n",
       "      <th>...</th>\n",
       "      <th>addr_state_TX</th>\n",
       "      <th>addr_state_UT</th>\n",
       "      <th>addr_state_VA</th>\n",
       "      <th>addr_state_VT</th>\n",
       "      <th>addr_state_WA</th>\n",
       "      <th>addr_state_WI</th>\n",
       "      <th>addr_state_WV</th>\n",
       "      <th>addr_state_WY</th>\n",
       "      <th>initial_list_status_w</th>\n",
       "      <th>application_type_Joint App</th>\n",
       "    </tr>\n",
       "  </thead>\n",
       "  <tbody>\n",
       "    <tr>\n",
       "      <th>476826</th>\n",
       "      <td>103741426</td>\n",
       "      <td>12000</td>\n",
       "      <td>13.49</td>\n",
       "      <td>407.17</td>\n",
       "      <td>10.0</td>\n",
       "      <td>60000.0</td>\n",
       "      <td>1</td>\n",
       "      <td>13.44</td>\n",
       "      <td>9</td>\n",
       "      <td>0</td>\n",
       "      <td>...</td>\n",
       "      <td>0</td>\n",
       "      <td>0</td>\n",
       "      <td>0</td>\n",
       "      <td>0</td>\n",
       "      <td>0</td>\n",
       "      <td>0</td>\n",
       "      <td>0</td>\n",
       "      <td>0</td>\n",
       "      <td>1</td>\n",
       "      <td>0</td>\n",
       "    </tr>\n",
       "    <tr>\n",
       "      <th>712710</th>\n",
       "      <td>83668945</td>\n",
       "      <td>7500</td>\n",
       "      <td>10.49</td>\n",
       "      <td>243.74</td>\n",
       "      <td>10.0</td>\n",
       "      <td>46500.0</td>\n",
       "      <td>1</td>\n",
       "      <td>23.74</td>\n",
       "      <td>11</td>\n",
       "      <td>0</td>\n",
       "      <td>...</td>\n",
       "      <td>0</td>\n",
       "      <td>0</td>\n",
       "      <td>0</td>\n",
       "      <td>0</td>\n",
       "      <td>0</td>\n",
       "      <td>0</td>\n",
       "      <td>0</td>\n",
       "      <td>0</td>\n",
       "      <td>1</td>\n",
       "      <td>0</td>\n",
       "    </tr>\n",
       "    <tr>\n",
       "      <th>797784</th>\n",
       "      <td>74614871</td>\n",
       "      <td>19800</td>\n",
       "      <td>24.11</td>\n",
       "      <td>570.88</td>\n",
       "      <td>10.0</td>\n",
       "      <td>45000.0</td>\n",
       "      <td>1</td>\n",
       "      <td>5.79</td>\n",
       "      <td>5</td>\n",
       "      <td>0</td>\n",
       "      <td>...</td>\n",
       "      <td>0</td>\n",
       "      <td>0</td>\n",
       "      <td>0</td>\n",
       "      <td>0</td>\n",
       "      <td>0</td>\n",
       "      <td>0</td>\n",
       "      <td>0</td>\n",
       "      <td>0</td>\n",
       "      <td>1</td>\n",
       "      <td>0</td>\n",
       "    </tr>\n",
       "    <tr>\n",
       "      <th>789671</th>\n",
       "      <td>75281701</td>\n",
       "      <td>20000</td>\n",
       "      <td>21.18</td>\n",
       "      <td>543.10</td>\n",
       "      <td>4.0</td>\n",
       "      <td>56500.0</td>\n",
       "      <td>1</td>\n",
       "      <td>20.56</td>\n",
       "      <td>12</td>\n",
       "      <td>2</td>\n",
       "      <td>...</td>\n",
       "      <td>0</td>\n",
       "      <td>0</td>\n",
       "      <td>0</td>\n",
       "      <td>0</td>\n",
       "      <td>0</td>\n",
       "      <td>0</td>\n",
       "      <td>0</td>\n",
       "      <td>0</td>\n",
       "      <td>1</td>\n",
       "      <td>0</td>\n",
       "    </tr>\n",
       "    <tr>\n",
       "      <th>114541</th>\n",
       "      <td>19597848</td>\n",
       "      <td>5400</td>\n",
       "      <td>14.99</td>\n",
       "      <td>187.17</td>\n",
       "      <td>4.0</td>\n",
       "      <td>59000.0</td>\n",
       "      <td>1</td>\n",
       "      <td>30.24</td>\n",
       "      <td>8</td>\n",
       "      <td>0</td>\n",
       "      <td>...</td>\n",
       "      <td>0</td>\n",
       "      <td>0</td>\n",
       "      <td>0</td>\n",
       "      <td>0</td>\n",
       "      <td>1</td>\n",
       "      <td>0</td>\n",
       "      <td>0</td>\n",
       "      <td>0</td>\n",
       "      <td>1</td>\n",
       "      <td>0</td>\n",
       "    </tr>\n",
       "  </tbody>\n",
       "</table>\n",
       "<p>5 rows × 121 columns</p>\n",
       "</div>"
      ],
      "text/plain": [
       "               id  loan_amnt  int_rate  installment  emp_length  annual_inc  \\\n",
       "476826  103741426      12000     13.49       407.17        10.0     60000.0   \n",
       "712710   83668945       7500     10.49       243.74        10.0     46500.0   \n",
       "797784   74614871      19800     24.11       570.88        10.0     45000.0   \n",
       "789671   75281701      20000     21.18       543.10         4.0     56500.0   \n",
       "114541   19597848       5400     14.99       187.17         4.0     59000.0   \n",
       "\n",
       "        loan_status    dti  open_acc  pub_rec             ...              \\\n",
       "476826            1  13.44         9        0             ...               \n",
       "712710            1  23.74        11        0             ...               \n",
       "797784            1   5.79         5        0             ...               \n",
       "789671            1  20.56        12        2             ...               \n",
       "114541            1  30.24         8        0             ...               \n",
       "\n",
       "        addr_state_TX  addr_state_UT  addr_state_VA  addr_state_VT  \\\n",
       "476826              0              0              0              0   \n",
       "712710              0              0              0              0   \n",
       "797784              0              0              0              0   \n",
       "789671              0              0              0              0   \n",
       "114541              0              0              0              0   \n",
       "\n",
       "        addr_state_WA  addr_state_WI  addr_state_WV  addr_state_WY  \\\n",
       "476826              0              0              0              0   \n",
       "712710              0              0              0              0   \n",
       "797784              0              0              0              0   \n",
       "789671              0              0              0              0   \n",
       "114541              1              0              0              0   \n",
       "\n",
       "        initial_list_status_w  application_type_Joint App  \n",
       "476826                      1                           0  \n",
       "712710                      1                           0  \n",
       "797784                      1                           0  \n",
       "789671                      1                           0  \n",
       "114541                      1                           0  \n",
       "\n",
       "[5 rows x 121 columns]"
      ]
     },
     "execution_count": 21,
     "metadata": {},
     "output_type": "execute_result"
    }
   ],
   "source": [
    "# Create dummy variables for the categorical variables:\n",
    "print(loans.columns)\n",
    "loans = pd.get_dummies(loans, columns=['term','sub_grade', 'home_ownership', 'verification_status', 'purpose', 'addr_state', 'initial_list_status', 'application_type'], drop_first=True)\n",
    "loans.sample(5)"
   ]
  },
  {
   "cell_type": "markdown",
   "metadata": {},
   "source": [
    "### Train/test split\n",
    "Use Project3_test_id.csv to split the train/test data"
   ]
  },
  {
   "cell_type": "code",
   "execution_count": 22,
   "metadata": {},
   "outputs": [
    {
     "data": {
      "text/html": [
       "<div>\n",
       "<style scoped>\n",
       "    .dataframe tbody tr th:only-of-type {\n",
       "        vertical-align: middle;\n",
       "    }\n",
       "\n",
       "    .dataframe tbody tr th {\n",
       "        vertical-align: top;\n",
       "    }\n",
       "\n",
       "    .dataframe thead th {\n",
       "        text-align: right;\n",
       "    }\n",
       "</style>\n",
       "<table border=\"1\" class=\"dataframe\">\n",
       "  <thead>\n",
       "    <tr style=\"text-align: right;\">\n",
       "      <th></th>\n",
       "      <th>test1</th>\n",
       "      <th>test2</th>\n",
       "      <th>test3</th>\n",
       "    </tr>\n",
       "  </thead>\n",
       "  <tbody>\n",
       "    <tr>\n",
       "      <th>241226</th>\n",
       "      <td>40562899</td>\n",
       "      <td>34743503</td>\n",
       "      <td>18615714</td>\n",
       "    </tr>\n",
       "    <tr>\n",
       "      <th>25349</th>\n",
       "      <td>1634801</td>\n",
       "      <td>1302121</td>\n",
       "      <td>10404810</td>\n",
       "    </tr>\n",
       "    <tr>\n",
       "      <th>121290</th>\n",
       "      <td>10077987</td>\n",
       "      <td>39420317</td>\n",
       "      <td>127477450</td>\n",
       "    </tr>\n",
       "    <tr>\n",
       "      <th>85034</th>\n",
       "      <td>480860</td>\n",
       "      <td>10119866</td>\n",
       "      <td>38426629</td>\n",
       "    </tr>\n",
       "    <tr>\n",
       "      <th>219026</th>\n",
       "      <td>76191232</td>\n",
       "      <td>15649887</td>\n",
       "      <td>36119106</td>\n",
       "    </tr>\n",
       "  </tbody>\n",
       "</table>\n",
       "</div>"
      ],
      "text/plain": [
       "           test1     test2      test3\n",
       "241226  40562899  34743503   18615714\n",
       "25349    1634801   1302121   10404810\n",
       "121290  10077987  39420317  127477450\n",
       "85034     480860  10119866   38426629\n",
       "219026  76191232  15649887   36119106"
      ]
     },
     "execution_count": 22,
     "metadata": {},
     "output_type": "execute_result"
    }
   ],
   "source": [
    "csv_path = '../Project3/Project3_test_id.csv'\n",
    "test_id = pd.read_csv(csv_path)\n",
    "# dtype=numpy.uint32\n",
    "test_id = test_id.apply(np.uint32)\n",
    "test_id.sample(5)"
   ]
  },
  {
   "cell_type": "code",
   "execution_count": 23,
   "metadata": {},
   "outputs": [],
   "source": [
    "# loans_train= loans.loc[~loans['id'].isin(test_id['test1'])]\n",
    "# loans_test = loans.loc[loans['id'].isin(test_id['test1'])]"
   ]
  },
  {
   "cell_type": "code",
   "execution_count": 24,
   "metadata": {},
   "outputs": [],
   "source": [
    "loans_train_1 = loans.loc[~loans['id'].isin(test_id['test1'])]\n",
    "loans_test_1 = loans.loc[loans['id'].isin(test_id['test1'])]\n",
    "loans_train_2 = loans.loc[~loans['id'].isin(test_id['test2'])]\n",
    "loans_test_2 = loans.loc[loans['id'].isin(test_id['test2'])]\n",
    "loans_train_3 = loans.loc[~loans['id'].isin(test_id['test3'])]\n",
    "loans_test_3 = loans.loc[loans['id'].isin(test_id['test3'])]"
   ]
  },
  {
   "cell_type": "code",
   "execution_count": 25,
   "metadata": {},
   "outputs": [
    {
     "name": "stdout",
     "output_type": "stream",
     "text": [
      "Test size is 0.29999786731373945\n"
     ]
    }
   ],
   "source": [
    "# Calculate the test size. Around 30% of total data \n",
    "print(\"Test size is {0}\".format(loans_test_1.shape[0] / loans.shape[0]))"
   ]
  },
  {
   "cell_type": "code",
   "execution_count": 26,
   "metadata": {},
   "outputs": [],
   "source": [
    "y_train_1 = loans_train_1['loan_status']\n",
    "y_test_1 = loans_test_1['loan_status']\n",
    "X_train_1 = loans_train_1.drop('loan_status', axis=1)\n",
    "X_test_1 = loans_test_1.drop('loan_status', axis=1)\n",
    "\n",
    "y_train_2 = loans_train_2['loan_status']\n",
    "y_test_2 = loans_test_2['loan_status']\n",
    "X_train_2 = loans_train_2.drop('loan_status', axis=1)\n",
    "X_test_2 = loans_test_2.drop('loan_status', axis=1)\n",
    "\n",
    "y_train_3 = loans_train_3['loan_status']\n",
    "y_test_3 = loans_test_3['loan_status']\n",
    "X_train_3 = loans_train_3.drop('loan_status', axis=1)\n",
    "X_test_3 = loans_test_3.drop('loan_status', axis=1)"
   ]
  },
  {
   "cell_type": "code",
   "execution_count": 27,
   "metadata": {},
   "outputs": [],
   "source": [
    "# ### Linear Dependence of Charge-off on the Predictors\n",
    "# On the training set, we compute the Pearson correlation,  F -statistic, and  p  value of each predictor with the response variable charged_off.\n",
    "\n",
    "# linear_dep = pd.DataFrame()\n",
    "# for col in X_train.columns:\n",
    "#     linear_dep.loc[col, 'pearson_corr'] = X_train[col].corr(y_train)\n",
    "# linear_dep['abs_pearson_corr'] = abs(linear_dep['pearson_corr'])\n",
    "# from sklearn.feature_selection import f_classif\n",
    "# for col in X_train.columns:\n",
    "#     mask = X_train[col].notnull()\n",
    "#     (linear_dep.loc[col, 'F'], linear_dep.loc[col, 'p_value']) = f_classif(pd.DataFrame(X_train.loc[mask, col]), y_train.loc[mask])\n",
    "\n",
    "# # Sort the results by the absolute value of the Pearson correlation:\n",
    "# linear_dep.sort_values('abs_pearson_corr', ascending=False, inplace=True)\n",
    "# linear_dep.drop('abs_pearson_corr', axis=1, inplace=True)\n",
    "# linear_dep.reset_index(inplace=True)\n",
    "# linear_dep.rename(columns={'index':'variable'}, inplace=True)\n",
    "# linear_dep.head(20)\n"
   ]
  },
  {
   "cell_type": "code",
   "execution_count": 28,
   "metadata": {},
   "outputs": [],
   "source": [
    "from sklearn.pipeline import Pipeline\n",
    "from sklearn.preprocessing import StandardScaler\n",
    "from sklearn.preprocessing import Imputer\n",
    "from sklearn.discriminant_analysis import LinearDiscriminantAnalysis\n",
    "from sklearn.model_selection import GridSearchCV"
   ]
  },
  {
   "cell_type": "markdown",
   "metadata": {},
   "source": [
    "### Fit SGD logistic regression model and find the optimal paramaters by grid search \n",
    "To save the running, I store the final model in trained_model.pkl"
   ]
  },
  {
   "cell_type": "code",
   "execution_count": 29,
   "metadata": {},
   "outputs": [],
   "source": [
    "from sklearn.linear_model import SGDClassifier\n",
    "# Logistic regression with SGD training\n",
    "pipeline_sgdlogreg = Pipeline([\n",
    "    ('imputer', Imputer(missing_values='NaN', strategy='mean')), # Mean imputation by default\n",
    "    ('scaler', StandardScaler(copy=False)),\n",
    "    ('model', SGDClassifier(loss='log', max_iter=1000, tol=1e-3, random_state=1, warm_start=True))\n",
    "])\n",
    "\n",
    "# hyperparameters to search over\n",
    "# After running grid_search, {'model__alpha': 0.01, 'model__penalty': 'l2'} is the best parameter\n",
    "\n",
    "param_grid_sgdlogreg = {\n",
    "    'model__alpha': [10**-5, 10**-2, 10**1],\n",
    "    'model__penalty': ['l1', 'l2']\n",
    "}\n",
    "\n",
    "# Use grid search to find the optimal parameter\n",
    "grid_sgdlogreg = GridSearchCV(estimator=pipeline_sgdlogreg, \n",
    "                              param_grid=param_grid_sgdlogreg, scoring='neg_log_loss', \n",
    "                              n_jobs=1, pre_dispatch=1, cv=5, verbose=1, return_train_score=False)\n",
    "\n",
    "grid_sgdlogreg.fit(X_train, y_train)"
   ]
  },
  {
   "cell_type": "markdown",
   "metadata": {},
   "source": [
    "### Fit RF model and find the optimal paramaters by grid search \n"
   ]
  },
  {
   "cell_type": "code",
   "execution_count": 30,
   "metadata": {},
   "outputs": [],
   "source": [
    "from sklearn.ensemble import RandomForestClassifier\n",
    "\n",
    "pipeline_RF = Pipeline([\n",
    "    ('imputer', Imputer(missing_values='NaN', strategy='mean')), # Mean imputation by default\n",
    "    ('model', RandomForestClassifier(n_jobs=-1, random_state=1))\n",
    "])\n",
    "\n",
    "# hyperparameters to search over\n",
    "# After running grid_search, {'model__alpha': 0.01, 'model__penalty': 'l2'} is the best parameter\n",
    "\n",
    "param_grid_RF = {\n",
    "    'model__n_estimators': [50] # The number of randomized trees to build\n",
    "}\n",
    "\n",
    "# Use grid search to find the optimal parameter\n",
    "grid_RF = GridSearchCV(estimator = pipeline_RF, \n",
    "                              param_grid = param_grid_RF, scoring='neg_log_loss', \n",
    "                              n_jobs=1, pre_dispatch=1, cv=5, verbose=1, return_train_score=False)\n",
    "\n",
    "grid_RF.fit(X_train_1, y_train_1)"
   ]
  },
  {
   "cell_type": "markdown",
   "metadata": {},
   "source": [
    "### Fit KNN model and find the optimal paramaters by grid search "
   ]
  },
  {
   "cell_type": "code",
   "execution_count": 31,
   "metadata": {},
   "outputs": [],
   "source": [
    "from sklearn.neighbors import KNeighborsClassifier\n",
    "\n",
    "#We need to reduce the number of variables to 10 or fewer (reference) for kNN to perform well. We'll use LDA for dimension reduction. \n",
    "# The number of component variables to keep is a hyperparameter.\n",
    "\n",
    "pipeline_knn = Pipeline([\n",
    "    ('imputer', Imputer(missing_values='NaN', strategy='mean')),\n",
    "    ('scaler', StandardScaler(copy=False)),\n",
    "    ('lda', LinearDiscriminantAnalysis()),\n",
    "    ('model', KNeighborsClassifier(n_jobs=-1))\n",
    "])\n",
    "\n",
    "param_grid_knn = {\n",
    "    'lda__n_components': [3, 9], # Number of LDA components to keep\n",
    "    'model__n_neighbors': [5, 25, 125] # The 'k' in k-nearest neighbors\n",
    "}\n",
    "\n",
    "grid_knn = GridSearchCV(estimator=pipeline_knn, param_grid=param_grid_knn, scoring='neg_log_loss', n_jobs=1, pre_dispatch=1, cv=5, verbose=1, return_train_score=False)\n",
    "\n",
    "grid_knn.fit(X_train_1, y_train_1)\n"
   ]
  },
  {
   "cell_type": "markdown",
   "metadata": {},
   "source": [
    "### Store the trained ML model in trained_model.pkl using pickle"
   ]
  },
  {
   "cell_type": "code",
   "execution_count": 32,
   "metadata": {},
   "outputs": [],
   "source": [
    "# Save the final model in trained_model.pkl\n",
    "import pickle\n",
    "\n",
    "model_sgd = grid_sgdlogreg\n",
    "model_RF = grid_RF\n",
    "model_knn = grid_knn\n",
    "\n",
    "# data2 = grid_sgdlogreg2\n",
    "output = open('trained_model.pkl', 'wb')\n",
    "\n",
    "# Pickle dictionary using protocol 0.\n",
    "pickle.dump(model_sgd, output)\n",
    "\n",
    "# Pickle the list using the highest protocol available.\n",
    "pickle.dump(model_RF, output, -1)\n",
    "\n",
    "# Pickle the list using the highest protocol available.\n",
    "pickle.dump(model_knn, output, -2)\n",
    "\n",
    "output.close()"
   ]
  },
  {
   "cell_type": "markdown",
   "metadata": {},
   "source": [
    "### Read the model from trained_model.pkl\n",
    "Because grid search would spend a lot of time training the model, I directly store the trained model in pkl file. "
   ]
  },
  {
   "cell_type": "code",
   "execution_count": 33,
   "metadata": {},
   "outputs": [],
   "source": [
    "import pprint, pickle\n",
    "\n",
    "pkl_file = open('trained_model.pkl', 'rb')\n",
    "\n",
    "model_sgd = pickle.load(pkl_file)\n",
    "\n",
    "model_RF = pickle.load(pkl_file)\n",
    "# pprint.pprint(model_RF)\n",
    "\n",
    "model_knn = pickle.load(pkl_file)\n",
    "\n",
    "pkl_file.close()"
   ]
  },
  {
   "cell_type": "code",
   "execution_count": 34,
   "metadata": {},
   "outputs": [],
   "source": [
    "from sklearn.metrics import log_loss\n",
    "# grid_sgdlogreg.best_estimator_\n",
    "model = ['model_sgd','model_RF','model_knn']\n",
    "result = np.zeros(9).reshape(3,3)\n",
    "y_score_ = []\n",
    "for i in range(3):\n",
    "    for j in range(3):\n",
    "        X_test = str('X_test_'+str(j+1))\n",
    "        y_test = str('y_test_'+str(j+1))\n",
    "        y_score = eval(model[i]).predict_proba(eval(X_test))[:,1]\n",
    "        y_score_.append(y_score)\n",
    "        score = log_loss(eval(y_test), y_score)\n",
    "        result[i][j] = score\n",
    "        \n",
    "b = np.zeros((3,3+1))\n",
    "b[:,:-1] = result\n",
    "\n",
    "# Add the average test score\n",
    "b[:,-1] = result.mean(axis = 1)"
   ]
  },
  {
   "cell_type": "markdown",
   "metadata": {},
   "source": [
    "### Print out the performance matrix and save the result as txt file"
   ]
  },
  {
   "cell_type": "code",
   "execution_count": 35,
   "metadata": {},
   "outputs": [
    {
     "data": {
      "text/html": [
       "<div>\n",
       "<style scoped>\n",
       "    .dataframe tbody tr th:only-of-type {\n",
       "        vertical-align: middle;\n",
       "    }\n",
       "\n",
       "    .dataframe tbody tr th {\n",
       "        vertical-align: top;\n",
       "    }\n",
       "\n",
       "    .dataframe thead th {\n",
       "        text-align: right;\n",
       "    }\n",
       "</style>\n",
       "<table border=\"1\" class=\"dataframe\">\n",
       "  <thead>\n",
       "    <tr style=\"text-align: right;\">\n",
       "      <th></th>\n",
       "      <th>Model_SGD</th>\n",
       "      <th>Model_RF</th>\n",
       "      <th>Model_KNN</th>\n",
       "    </tr>\n",
       "    <tr>\n",
       "      <th>Test</th>\n",
       "      <th></th>\n",
       "      <th></th>\n",
       "      <th></th>\n",
       "    </tr>\n",
       "  </thead>\n",
       "  <tbody>\n",
       "    <tr>\n",
       "      <th>test1</th>\n",
       "      <td>0.456626</td>\n",
       "      <td>0.473087</td>\n",
       "      <td>0.460120</td>\n",
       "    </tr>\n",
       "    <tr>\n",
       "      <th>test2</th>\n",
       "      <td>0.457377</td>\n",
       "      <td>0.227334</td>\n",
       "      <td>0.454615</td>\n",
       "    </tr>\n",
       "    <tr>\n",
       "      <th>test3</th>\n",
       "      <td>0.456455</td>\n",
       "      <td>0.225857</td>\n",
       "      <td>0.453486</td>\n",
       "    </tr>\n",
       "    <tr>\n",
       "      <th>Average</th>\n",
       "      <td>0.456819</td>\n",
       "      <td>0.308759</td>\n",
       "      <td>0.456074</td>\n",
       "    </tr>\n",
       "  </tbody>\n",
       "</table>\n",
       "</div>"
      ],
      "text/plain": [
       "         Model_SGD  Model_RF  Model_KNN\n",
       "Test                                   \n",
       "test1     0.456626  0.473087   0.460120\n",
       "test2     0.457377  0.227334   0.454615\n",
       "test3     0.456455  0.225857   0.453486\n",
       "Average   0.456819  0.308759   0.456074"
      ]
     },
     "execution_count": 35,
     "metadata": {},
     "output_type": "execute_result"
    }
   ],
   "source": [
    "d = {'Test': ['test1','test2','test3',\"Average\"] ,'Model_SGD': b[0][:], 'Model_RF': b[1][:], 'Model_KNN': b[2][:]}\n",
    "df = pd.DataFrame(data=d)\n",
    "df.set_index('Test')"
   ]
  },
  {
   "cell_type": "markdown",
   "metadata": {},
   "source": [
    "### Conclusion\n",
    "Based on the result, average Log-loss of Model_SGD and Model_KNN are less than 0.46. Average Log-loss of Model_RF is less than 0.455. Besides, random forest performs quite well on test2 and test3. To sum up, random forest is the best model to predict lendingClub loan charge-offs."
   ]
  },
  {
   "cell_type": "code",
   "execution_count": 36,
   "metadata": {},
   "outputs": [
    {
     "data": {
      "text/plain": [
       "array([0.648, 0.872, 0.752, ..., 0.736, 0.888, 0.808])"
      ]
     },
     "execution_count": 36,
     "metadata": {},
     "output_type": "execute_result"
    }
   ],
   "source": [
    "y_score_[8]"
   ]
  },
  {
   "cell_type": "code",
   "execution_count": 37,
   "metadata": {},
   "outputs": [],
   "source": [
    "path = '../Project3/Model 1(SGD)'\n",
    "df1 = X_test_1['id']\n",
    "df2 = X_test_2['id']\n",
    "df3 = X_test_3['id']\n",
    "\n",
    "# Generate the result of SGD model \n",
    "for i in range(3):\n",
    "    d = {'ID':df1,'Prob':y_score_[i]}\n",
    "    dataframe = pd.DataFrame(data=d)\n",
    "    np.savetxt('mysubmission{0}(SGD).txt'.format(i+1), dataframe, delimiter=',', header = \"ID,Prob\", fmt = ['%d','%f']) \n",
    "\n",
    "# Generate the result of RF model \n",
    "for i in range(3):\n",
    "    d = {'ID':df2,'Prob':y_score_[i+3]}\n",
    "    dataframe = pd.DataFrame(data=d)\n",
    "    np.savetxt('mysubmission{0}(RF).txt'.format(i+1), dataframe, delimiter=',', header = \"ID,Prob\", fmt = ['%d','%f']) \n",
    "\n",
    "# Generate the result of KNN model \n",
    "for i in range(3):\n",
    "    d = {'ID':df3,'Prob':y_score_[i+6]}\n",
    "    dataframe = pd.DataFrame(data=d)\n",
    "    np.savetxt('mysubmission{0}(KNN).txt'.format(i+1), dataframe, delimiter=',', header = \"ID,Prob\", fmt = ['%d','%f']) "
   ]
  },
  {
   "cell_type": "code",
   "execution_count": null,
   "metadata": {},
   "outputs": [],
   "source": []
  }
 ],
 "metadata": {
  "kernelspec": {
   "display_name": "Python 3",
   "language": "python",
   "name": "python3"
  },
  "language_info": {
   "codemirror_mode": {
    "name": "ipython",
    "version": 3
   },
   "file_extension": ".py",
   "mimetype": "text/x-python",
   "name": "python",
   "nbconvert_exporter": "python",
   "pygments_lexer": "ipython3",
   "version": "3.6.1"
  }
 },
 "nbformat": 4,
 "nbformat_minor": 2
}
